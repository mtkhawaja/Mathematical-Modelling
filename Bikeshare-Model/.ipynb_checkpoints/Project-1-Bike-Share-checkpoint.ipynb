{
 "cells": [
  {
   "cell_type": "markdown",
   "metadata": {},
   "source": [
    "# Group Members \n",
    "* Michaela Friedman\n",
    "* Muneeb Khawaja \n",
    "* Vlad Cojocaru"
   ]
  },
  {
   "cell_type": "markdown",
   "metadata": {},
   "source": [
    "# Library Imports "
   ]
  },
  {
   "cell_type": "code",
   "execution_count": 33,
   "metadata": {},
   "outputs": [
    {
     "name": "stdout",
     "output_type": "stream",
     "text": [
      "Requirement already satisfied: pint in c:\\python\\python37\\lib\\site-packages (0.9)\n"
     ]
    }
   ],
   "source": [
    "!pip install pint\n",
    "from modsim import* \n",
    "import random  # Used for random bike selection \n",
    "import math    # Used for floor function\n",
    "random.seed(7)  \n",
    "import numpy as np"
   ]
  },
  {
   "cell_type": "markdown",
   "metadata": {},
   "source": [
    "# Helper Functions"
   ]
  },
  {
   "cell_type": "code",
   "execution_count": 34,
   "metadata": {},
   "outputs": [],
   "source": [
    "\"\"\"\n",
    "* Checks to see if the bike is avaiable at the location or not.\n",
    "\"\"\"\n",
    "def check_avail(bikeLocation, target):\n",
    "    for i in bikeLocation: \n",
    "        if i == target: \n",
    "            return True\n",
    "    return False\n",
    "\n",
    "\"\"\"\n",
    "* Updates all counters and runs simulations for accidents happening, updating if necessary.\n",
    "\"\"\"\n",
    "\n",
    "def update_counters(numRides, broken, choice, p3):\n",
    "    numRides[choice] += 1\n",
    "    if(flip(p3)): \n",
    "        broken[choice]+=1\n",
    "    if(numRides[choice]%100 == 0 and numRides[choice]>0):\n",
    "        broken[choice]+=1\n",
    "\n",
    "\"\"\"\n",
    "* Models a bike leaving Queens Hall and going to Kiely Hall. \n",
    "\"\"\"\n",
    "\n",
    "def bike_to_ky (bikeLocation, numRides, broken, p3):\n",
    "      \n",
    "    if not check_avail(bikeLocation, 1):\n",
    "        return\n",
    "    \n",
    "    found = False\n",
    "    while(not found):\n",
    "        choice = random.randint(0, 9)\n",
    "        if bikeLocation[choice] == 1:\n",
    "            bikeLocation[choice]= 0\n",
    "            update_counters(numRides, broken, choice, p3)\n",
    "            break\n",
    "\n",
    "\"\"\"\n",
    "* Models a bike leaving Kiely Hall and going to Queen's Hall. \n",
    "\"\"\"\n",
    "            \n",
    "def bike_to_qh (bikeLocation, numRides, broken, p3):\n",
    "    \n",
    "    if not check_avail(bikeLocation, 0):\n",
    "        return\n",
    "\n",
    "    found = False\n",
    "    while(not found):\n",
    "        choice = random.randint(0, 9)\n",
    "        if bikeLocation[choice] == 0:\n",
    "            bikeLocation[choice]= 1\n",
    "            update_counters(numRides, broken, choice, p3)\n",
    "            break\n",
    "\n",
    "\"\"\"\n",
    "* Prints all list items horizontally, with a tab space b/w them. \n",
    "* Useful for debugging and displaying the status of the simulation.\n",
    "\"\"\"\n",
    "\n",
    "def print_list(list):\n",
    "    for i in list:\n",
    "        print(i, \"\\t\", end = \"\")\n",
    "    print(\"\\n\")\n",
    "\n",
    "\"\"\"\n",
    "* Returns the sum of all numbers in a list. \n",
    "\"\"\"    \n",
    "    \n",
    "def sum_list(list):\n",
    "    val = 0\n",
    "    for i in list:\n",
    "        val += i \n",
    "    return val\n",
    "\n",
    "def step (bikeLocation, numRides, broken, p1, p2, p3):\n",
    "    if (flip(p1)):\n",
    "        bike_to_ky(bikeLocation, numRides, broken, p3)\n",
    "    if (flip(p2)):\n",
    "        bike_to_qh(bikeLocation, numRides, broken, p3)\n"
   ]
  },
  {
   "cell_type": "markdown",
   "metadata": {},
   "source": [
    "# Simulation"
   ]
  },
  {
   "cell_type": "code",
   "execution_count": 35,
   "metadata": {},
   "outputs": [],
   "source": [
    "def run_simulation(bikeLocation, numRides, broken, \n",
    "                   resultsBreaks, resultsRides, \n",
    "                   numSteps,\n",
    "                   p1, p2, p3):\n",
    "    for i in range(numSteps):\n",
    "        step (bikeLocation, numRides, broken, p1, p2, p3)\n",
    "        resultsBreaks[i] = sum_list(broken)\n",
    "        resultsRides[i]  = sum_list(numRides) "
   ]
  },
  {
   "cell_type": "markdown",
   "metadata": {},
   "source": [
    "# Variables and Simulation Configuration"
   ]
  },
  {
   "cell_type": "markdown",
   "metadata": {},
   "source": [
    "### bikeLocation\n",
    "Simulates the Rack at Kiely and Queens Hall \n",
    "* 0 --> Bike is at Kiely \n",
    "* 1 --> Bike is at Queens Hall "
   ]
  },
  {
   "cell_type": "code",
   "execution_count": 36,
   "metadata": {},
   "outputs": [],
   "source": [
    "bikeLocation = ([0,0,0,0,0,1,1,1,1,1])"
   ]
  },
  {
   "cell_type": "markdown",
   "metadata": {},
   "source": [
    "### numRides \n",
    "* Tracks the number of time a specific bike has been ridden. "
   ]
  },
  {
   "cell_type": "code",
   "execution_count": 37,
   "metadata": {},
   "outputs": [],
   "source": [
    "numRides = ([0,0,0,0,0,0,0,0,0,0])"
   ]
  },
  {
   "cell_type": "markdown",
   "metadata": {},
   "source": [
    "### numSteps \n",
    "* Determines how many minutes the simulation is run for. "
   ]
  },
  {
   "cell_type": "code",
   "execution_count": 38,
   "metadata": {},
   "outputs": [],
   "source": [
    "numSteps = 16800"
   ]
  },
  {
   "cell_type": "markdown",
   "metadata": {},
   "source": [
    "### broken\n",
    "* Tracks the number of time a specific bike breaks. "
   ]
  },
  {
   "cell_type": "code",
   "execution_count": 39,
   "metadata": {},
   "outputs": [],
   "source": [
    "broken = ([0,0,0,0,0,0,0,0,0,0])"
   ]
  },
  {
   "cell_type": "markdown",
   "metadata": {},
   "source": [
    "### resultsBreaks\n",
    "* Tracks cumulative breakings at a unit of time. "
   ]
  },
  {
   "cell_type": "code",
   "execution_count": 40,
   "metadata": {},
   "outputs": [],
   "source": [
    "resultsBreaks = TimeSeries()"
   ]
  },
  {
   "cell_type": "markdown",
   "metadata": {},
   "source": [
    "### resultsRides\n",
    "* Tracks cumulative rides at a unit of time. "
   ]
  },
  {
   "cell_type": "code",
   "execution_count": 41,
   "metadata": {},
   "outputs": [],
   "source": [
    "resultsRides=TimeSeries()"
   ]
  },
  {
   "cell_type": "markdown",
   "metadata": {},
   "source": [
    "# Probabilities\n",
    " * p1 : Probability of Ride to Kiely Hall\n",
    " * p2 : Probability of Riding to Queens Hall. \n",
    " * p3 : Probability of an accident happening."
   ]
  },
  {
   "cell_type": "code",
   "execution_count": 42,
   "metadata": {},
   "outputs": [],
   "source": [
    "p1 = .5\n",
    "p2 = .5\n",
    "p3 = 0.001"
   ]
  },
  {
   "cell_type": "markdown",
   "metadata": {},
   "source": [
    "# Visual of the Setup"
   ]
  },
  {
   "cell_type": "code",
   "execution_count": 43,
   "metadata": {},
   "outputs": [
    {
     "name": "stdout",
     "output_type": "stream",
     "text": [
      "Bike Locations (0 - Kiely, 1 - Queen's Hall): \n",
      "0 \t0 \t0 \t0 \t0 \t1 \t1 \t1 \t1 \t1 \t\n",
      "\n",
      "Number of rides per bike: \n",
      "0 \t0 \t0 \t0 \t0 \t0 \t0 \t0 \t0 \t0 \t\n",
      "\n",
      "Number of times each bike broke: \n",
      "0 \t0 \t0 \t0 \t0 \t0 \t0 \t0 \t0 \t0 \t\n",
      "\n"
     ]
    }
   ],
   "source": [
    "print(\"Bike Locations (0 - Kiely, 1 - Queen's Hall): \")\n",
    "print_list(bikeLocation)\n",
    "print(\"Number of rides per bike: \")\n",
    "print_list(numRides)\n",
    "print(\"Number of times each bike broke: \")\n",
    "print_list(broken)"
   ]
  },
  {
   "cell_type": "markdown",
   "metadata": {},
   "source": [
    "# Simulation and Config. Variables"
   ]
  },
  {
   "cell_type": "code",
   "execution_count": 44,
   "metadata": {},
   "outputs": [],
   "source": [
    "bikeLocation = ([0,0,0,0,0,1,1,1,1,1])\n",
    "numRides = ([0,0,0,0,0,0,0,0,0,0])\n",
    "broken = ([0,0,0,0,0,0,0,0,0,0])\n",
    "numSteps = 16800\n",
    "resultsBreaks = TimeSeries()\n",
    "resultsRides=TimeSeries()\n",
    "p1 = .5\n",
    "p2 = .5\n",
    "p3 = 0.001\n",
    "run_simulation(bikeLocation, numRides, broken, resultsBreaks, resultsRides, numSteps, p1, p2, p3)   "
   ]
  },
  {
   "cell_type": "markdown",
   "metadata": {},
   "source": [
    "# Results With Respect To Minutes"
   ]
  },
  {
   "cell_type": "code",
   "execution_count": 55,
   "metadata": {},
   "outputs": [
    {
     "data": {
      "image/png": "[encoded data removed]",
      "text/plain": [
       "<Figure size 432x288 with 1 Axes>"
      ]
     },
     "metadata": {
      "needs_background": "light"
     },
     "output_type": "display_data"
    }
   ],
   "source": [
    "plot(resultsRides, label='Total Rides/Time')\n",
    "decorate(title='Queens College Bikeshare',\n",
    "         xlabel='Time Step (min)', \n",
    "         ylabel='Number of Rides')\n"
   ]
  },
  {
   "cell_type": "code",
   "execution_count": 56,
   "metadata": {},
   "outputs": [
    {
     "data": {
      "image/png": "[encoded data removed]",
      "text/plain": [
       "<Figure size 432x288 with 1 Axes>"
      ]
     },
     "metadata": {
      "needs_background": "light"
     },
     "output_type": "display_data"
    }
   ],
   "source": [
    "plot(resultsBreaks, label='Total Breaks/Time')\n",
    "decorate(title='Queens College Bikeshare',\n",
    "         xlabel='Time Step (min)', \n",
    "         ylabel='Number of Breaks')"
   ]
  },
  {
   "cell_type": "markdown",
   "metadata": {},
   "source": [
    "# Results With Respect to Weeks"
   ]
  },
  {
   "cell_type": "code",
   "execution_count": 57,
   "metadata": {
    "scrolled": false
   },
   "outputs": [
    {
     "data": {
      "image/png": "[encoded data removed]",
      "text/plain": [
       "<Figure size 432x288 with 1 Axes>"
      ]
     },
     "metadata": {
      "needs_background": "light"
     },
     "output_type": "display_data"
    }
   ],
   "source": [
    "plt.xticks(range(0,20000, 4200))\n",
    "xaxis_labels = ('Week 1','Week  2','Week  3','Week  4', 'Week  5')\n",
    "xaxis_pos    = (range(0,20000, 4200))\n",
    "plt.xticks(xaxis_pos, xaxis_labels)\n",
    "plot(resultsRides, label='Total Rides/Time')\n",
    "decorate(title='Queens College Bikeshare',\n",
    "         xlabel='Time Step Weeks', \n",
    "         ylabel='Number of Rides')\n"
   ]
  },
  {
   "cell_type": "code",
   "execution_count": 58,
   "metadata": {
    "scrolled": false
   },
   "outputs": [
    {
     "data": {
      "image/png": "[encoded data removed]",
      "text/plain": [
       "<Figure size 432x288 with 1 Axes>"
      ]
     },
     "metadata": {
      "needs_background": "light"
     },
     "output_type": "display_data"
    }
   ],
   "source": [
    "plt.xticks(range(0,20000, 4200))\n",
    "xaxis_labels = ('Week 1','Week  2','Week  3','Week  4', 'Week  5')\n",
    "xaxis_pos    = (range(0,20000, 4200))\n",
    "plt.xticks(xaxis_pos, xaxis_labels)\n",
    "plot(resultsBreaks, label='Total Breaks/Time')\n",
    "decorate(title='Queens College Bikeshare',\n",
    "         xlabel='Time Step Weeks', \n",
    "         ylabel='Number of Breaks')"
   ]
  },
  {
   "cell_type": "code",
   "execution_count": 59,
   "metadata": {},
   "outputs": [
    {
     "name": "stdout",
     "output_type": "stream",
     "text": [
      "The total number of rides for ALL bikes:\t 16070\n",
      "The total number of breaks for ALL bikes:\t 173\n",
      "The cost per ride comes out to be:\t\t$ 0.21530802738021157 =  1\n"
     ]
    }
   ],
   "source": [
    "totalRides = sum_list(numRides)\n",
    "totalBrokenBikes = sum_list(broken)\n",
    "# One repair costs $20\n",
    "costPerRide =  (totalBrokenBikes*20) / totalRides\n",
    "print(\"The total number of rides for ALL bikes:\\t\", totalRides)\n",
    "print(\"The total number of breaks for ALL bikes:\\t\", totalBrokenBikes)\n",
    "print(\"The cost per ride comes out to be:\\t\\t$\", costPerRide, \"= \", math.ceil(costPerRide))"
   ]
  },
  {
   "cell_type": "code",
   "execution_count": null,
   "metadata": {},
   "outputs": [],
   "source": []
  }
 ],
 "metadata": {
  "kernelspec": {
   "display_name": "Python 3",
   "language": "python",
   "name": "python3"
  },
  "language_info": {
   "codemirror_mode": {
    "name": "ipython",
    "version": 3
   },
   "file_extension": ".py",
   "mimetype": "text/x-python",
   "name": "python",
   "nbconvert_exporter": "python",
   "pygments_lexer": "ipython3",
   "version": "3.8.3"
  }
 },
 "nbformat": 4,
 "nbformat_minor": 2
}
